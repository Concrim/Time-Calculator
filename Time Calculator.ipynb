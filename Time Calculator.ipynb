{
 "cells": [
  {
   "cell_type": "markdown",
   "id": "2ad8a77d-cf3a-4b96-b3db-7739c06e1346",
   "metadata": {},
   "source": [
    "# Time Calculator"
   ]
  },
  {
   "cell_type": "code",
   "execution_count": 1,
   "id": "d955bc48-892b-4591-972c-3f2991c2c6dd",
   "metadata": {},
   "outputs": [],
   "source": [
    "def add_time(start, duration, day=''):\n",
    "    week_days = 'sunday monday tuesday wednesday thursday friday saturday'.split()\n",
    "    input_mins = int(start.split()[0].split(':')[0])*60 + int(start.split()[0].split(':')[1])\n",
    "    add_mins = int(duration.split(':')[0])*60 + int(duration.split(':')[1])\n",
    "\n",
    "    if start.split()[1] == 'AM':\n",
    "        output_mins = input_mins + add_mins\n",
    "    elif start.split()[1] == 'PM':\n",
    "        output_mins = input_mins + add_mins + 720\n",
    "\n",
    "    hours = output_mins // 60 % 24\n",
    "    minutes = output_mins%60\n",
    "\n",
    "    if hours >= 12:\n",
    "        hours = hours - 12\n",
    "        ender = 'PM'\n",
    "    else:\n",
    "        hours = hours\n",
    "        ender = 'AM'\n",
    "\n",
    "    if minutes < 10:\n",
    "        minutes = f'0{minutes}'\n",
    "    \n",
    "\n",
    "    n = output_mins // 1440\n",
    "\n",
    "    result_day = ''\n",
    "    if day != '':\n",
    "        for i in range(7):\n",
    "            if day.lower() == week_days[i]:\n",
    "                result_day = week_days[i+n%7].capitalize()\n",
    "          \n",
    "    if result_day == '':\n",
    "        if n==0:\n",
    "            return f'{hours}:{minutes} {ender}'\n",
    "        elif n==1:\n",
    "            return f'{hours}:{minutes} {ender} (next day)'\n",
    "        else:\n",
    "            return f'{hours}:{minutes} {ender} ({str(n)} days later)' \n",
    "\n",
    "    else:\n",
    "        if n==0:\n",
    "            return f'{hours}:{minutes} {ender}, {result_day}'\n",
    "        elif n==1:\n",
    "            return f'{hours}:{minutes} {ender}, {result_day} (next day)'\n",
    "        else:\n",
    "            return f'{hours}:{minutes} {ender}, {result_day} ({str(n)} days later)'\n"
   ]
  },
  {
   "cell_type": "markdown",
   "id": "ed0932dd-a999-4625-a8fb-4185d36a0e8c",
   "metadata": {},
   "source": [
    "### Example"
   ]
  },
  {
   "cell_type": "code",
   "execution_count": 2,
   "id": "8595ceeb-93c5-4e53-bb56-a8023b5f3fd3",
   "metadata": {},
   "outputs": [
    {
     "name": "stdout",
     "output_type": "stream",
     "text": [
      "6:18 AM (20 days later)\n"
     ]
    }
   ],
   "source": [
    "print(add_time('8:16 PM', '466:02'))"
   ]
  },
  {
   "cell_type": "code",
   "execution_count": null,
   "id": "a2ff424a-2925-4eab-9cfb-2260450f53b3",
   "metadata": {},
   "outputs": [],
   "source": []
  }
 ],
 "metadata": {
  "kernelspec": {
   "display_name": "Python 3 (ipykernel)",
   "language": "python",
   "name": "python3"
  },
  "language_info": {
   "codemirror_mode": {
    "name": "ipython",
    "version": 3
   },
   "file_extension": ".py",
   "mimetype": "text/x-python",
   "name": "python",
   "nbconvert_exporter": "python",
   "pygments_lexer": "ipython3",
   "version": "3.11.7"
  }
 },
 "nbformat": 4,
 "nbformat_minor": 5
}
